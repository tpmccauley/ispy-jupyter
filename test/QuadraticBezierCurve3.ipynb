{
 "cells": [
  {
   "cell_type": "code",
   "execution_count": 7,
   "id": "31a535ed-71f7-4a31-a92e-232e6ff5cf55",
   "metadata": {
    "editable": true,
    "slideshow": {
     "slide_type": ""
    },
    "tags": []
   },
   "outputs": [
    {
     "name": "stdout",
     "output_type": "stream",
     "text": [
      "{'_trait_values': {'_model_module': 'jupyter-threejs', '_model_module_version': '^2.4.1', '_model_name': 'QuadraticBezierCurve3Model', '_view_count': None, '_view_module': None, '_view_module_version': '', '_view_name': None, 'comm': <ipykernel.comm.comm.BaseComm object at 0x10990a250>, 'keys': ['_model_module', '_model_module_version', '_model_name', '_view_count', '_view_module', '_view_module_version', '_view_name'], '_msg_callbacks': <ipywidgets.widgets.widget.CallbackDispatcher object at 0x109969f90>}, '_trait_notifiers': {'comm': {'change': [<traitlets.traitlets.ObserveHandler object at 0x107f113d0>]}}, '_trait_validators': {}, '_cross_validation_lock': False, '_model_id': '195108517474495994ea1fdae8abd12d'}\n"
     ]
    },
    {
     "data": {
      "application/vnd.jupyter.widget-view+json": {
       "model_id": "ec1f2855ab1e4f2ebbeec67094ce8c0c",
       "version_major": 2,
       "version_minor": 0
      },
      "text/plain": [
       "Renderer(camera=PerspectiveCamera(aspect=1.5, position=(10.0, 10.0, 10.0), projectionMatrix=(1.0, 0.0, 0.0, 0.…"
      ]
     },
     "metadata": {},
     "output_type": "display_data"
    }
   ],
   "source": [
    "from pythreejs import *\n",
    "import numpy as np\n",
    "from IPython.display import display\n",
    "\n",
    "p0 = (0, 0, 0)\n",
    "p1 = (2, 3, 0)\n",
    "p2 = (4, 0, 0)\n",
    "\n",
    "# This doesn't seem to be implemented\n",
    "curve = QuadraticBezierCurve3(\n",
    "    points=[p0, p1, p2]\n",
    ")\n",
    "\n",
    "print(curve.__dict__)\n",
    "\n",
    "t_values = np.linspace(0, 1, 50)\n",
    "points = []\n",
    "for t in t_values:\n",
    "   \n",
    "    point = (\n",
    "        (1 - t)**2 * np.array([p0[0], p0[1], p0[2]]) +\n",
    "        2 * (1 - t) * t * np.array([p1[0], p1[1], p1[2]]) +\n",
    "        t**2 * np.array([p2[0], p2[1], p2[2]])\n",
    "    )\n",
    "    \n",
    "    points.append(point)\n",
    "\n",
    "points = np.array(points)\n",
    "\n",
    "geometry = BufferGeometry(attributes={\n",
    "    'position': BufferAttribute(points, normalized=False)\n",
    "})\n",
    "\n",
    "material = LineBasicMaterial(color='#ffff00')\n",
    "line = Line(geometry, material)\n",
    "\n",
    "scene = Scene(\n",
    "    background='#000000',\n",
    "    children=[line, AmbientLight(color='#ffffff')]\n",
    ")\n",
    "\n",
    "camera = PerspectiveCamera(\n",
    "    position=[10, 10, 10], \n",
    "    fov=50, \n",
    "    aspect=1.5\n",
    ")\n",
    "\n",
    "camera.lookAt([2, 1, 0])\n",
    "\n",
    "renderer = Renderer(\n",
    "    camera=camera, \n",
    "    scene=scene, \n",
    "    controls=[OrbitControls(controlling=camera)], \n",
    "    width=800, \n",
    "    height=600\n",
    ")\n",
    "\n",
    "display(renderer)"
   ]
  },
  {
   "cell_type": "code",
   "execution_count": null,
   "id": "900b12ef-824e-47cc-9d4d-9257376a1d6f",
   "metadata": {
    "editable": true,
    "slideshow": {
     "slide_type": ""
    },
    "tags": []
   },
   "outputs": [],
   "source": []
  }
 ],
 "metadata": {
  "kernelspec": {
   "display_name": "Python 3 (ipykernel)",
   "language": "python",
   "name": "python3"
  },
  "language_info": {
   "codemirror_mode": {
    "name": "ipython",
    "version": 3
   },
   "file_extension": ".py",
   "mimetype": "text/x-python",
   "name": "python",
   "nbconvert_exporter": "python",
   "pygments_lexer": "ipython3",
   "version": "3.11.5"
  }
 },
 "nbformat": 4,
 "nbformat_minor": 5
}
