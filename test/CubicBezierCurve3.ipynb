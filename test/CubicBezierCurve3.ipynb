{
 "cells": [
  {
   "cell_type": "code",
   "execution_count": 1,
   "id": "d357de3f-f3ed-4536-ba28-b974a18875ac",
   "metadata": {
    "editable": true,
    "slideshow": {
     "slide_type": ""
    },
    "tags": []
   },
   "outputs": [
    {
     "name": "stderr",
     "output_type": "stream",
     "text": [
      "/Users/mccauley/ispy-jupyter/ispy/lib/python3.11/site-packages/pythreejs/traits.py:257: UserWarning: 64-bit data types not supported for WebGL data, casting to 32-bit.\n",
      "  warnings.warn('64-bit data types not supported for WebGL '\n"
     ]
    },
    {
     "data": {
      "application/vnd.jupyter.widget-view+json": {
       "model_id": "3cf010b33b7f42d0a810580aeb892a7a",
       "version_major": 2,
       "version_minor": 0
      },
      "text/plain": [
       "Renderer(camera=PerspectiveCamera(aspect=1.5, position=(10.0, 10.0, 10.0), projectionMatrix=(1.0, 0.0, 0.0, 0.…"
      ]
     },
     "metadata": {},
     "output_type": "display_data"
    }
   ],
   "source": [
    "from pythreejs import *\n",
    "import numpy as np\n",
    "from IPython.display import display\n",
    "\n",
    "p0 = (0, 0, 0)\n",
    "p1 = (1, 2, 0)\n",
    "p2 = (3, 2, 0)\n",
    "p3 = (4, 0, 0)\n",
    "\n",
    "# This doesn't seem to be implemented.\n",
    "# In three.js once created it returns points \n",
    "# using a getPoints functions e.g.\n",
    "# points = curve.getPoints(50) which returns 50 points\n",
    "# along the curve.\n",
    "curve = CubicBezierCurve3(\n",
    "    points=[p0, p1, p2, p3]\n",
    ")\n",
    "\n",
    "t_values = np.linspace(0, 1, 50)\n",
    "points = []\n",
    "\n",
    "for t in t_values:\n",
    "   \n",
    "    point = (\n",
    "        (1 - t)**3 * np.array([p0[0], p0[1], p0[2]]) +\n",
    "        3 * (1 - t)**2 * t * np.array([p1[0], p1[1], p1[2]]) +\n",
    "        3 * (1 - t) * t**2 * np.array([p2[0], p2[1], p2[2]]) +\n",
    "        t**3 * np.array([p3[0], p3[1], p3[2]])\n",
    "    )\n",
    "   \n",
    "    points.append(point)\n",
    "\n",
    "points = np.array(points)\n",
    "\n",
    "geometry = BufferGeometry(attributes={\n",
    "    'position': BufferAttribute(points, normalized=False)\n",
    "})\n",
    "\n",
    "material = LineBasicMaterial(color='#ffff00')\n",
    "line = Line(geometry, material)\n",
    "\n",
    "scene = Scene(\n",
    "    background='#000000',\n",
    "    children=[line, AmbientLight(color='#ffffff')]\n",
    ")\n",
    "\n",
    "camera = PerspectiveCamera(\n",
    "    position=[10, 10, 10], \n",
    "    fov=50, \n",
    "    aspect=1.5\n",
    ")\n",
    "\n",
    "camera.lookAt([2, 1, 0])\n",
    "\n",
    "renderer = Renderer(\n",
    "    camera=camera, \n",
    "    scene=scene, \n",
    "    controls=[OrbitControls(controlling=camera)], \n",
    "    width=800, \n",
    "    height=600\n",
    ")\n",
    "\n",
    "display(renderer)"
   ]
  },
  {
   "cell_type": "code",
   "execution_count": null,
   "id": "d0095c70-e75a-4851-98c1-8be59d285425",
   "metadata": {
    "editable": true,
    "slideshow": {
     "slide_type": ""
    },
    "tags": []
   },
   "outputs": [],
   "source": []
  }
 ],
 "metadata": {
  "kernelspec": {
   "display_name": "Python 3 (ipykernel)",
   "language": "python",
   "name": "python3"
  },
  "language_info": {
   "codemirror_mode": {
    "name": "ipython",
    "version": 3
   },
   "file_extension": ".py",
   "mimetype": "text/x-python",
   "name": "python",
   "nbconvert_exporter": "python",
   "pygments_lexer": "ipython3",
   "version": "3.11.5"
  }
 },
 "nbformat": 4,
 "nbformat_minor": 5
}
