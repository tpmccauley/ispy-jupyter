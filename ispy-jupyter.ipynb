{
 "cells": [
  {
   "cell_type": "markdown",
   "id": "fa3f94dc-df18-4f70-9d41-499100030c1a",
   "metadata": {},
   "source": [
    "# ispy-jupyter\n",
    "\n",
    "A demonstrator in which we read in NANOAOD and render it using three.js (via pythreejs) in a jupyter notebook\n",
    "\n",
    "1. Read in nanoAOD and select\n",
    "2. Create a renderer, scene, camera, etc.\n",
    "3. Render an event"
   ]
  },
  {
   "cell_type": "code",
   "execution_count": 1,
   "id": "684c094e-99b8-4566-aa3c-fb760443dec6",
   "metadata": {},
   "outputs": [],
   "source": [
    "import math\n",
    "import uproot\n",
    "import os\n",
    "\n",
    "import awkward as ak\n",
    "import ipywidgets as widgets\n",
    "import numpy as np\n",
    "\n",
    "from pythreejs import *\n",
    "from IPython.display import display"
   ]
  },
  {
   "cell_type": "markdown",
   "id": "464218f7-eb67-4600-8455-8cdbddb09497",
   "metadata": {},
   "source": [
    "## Part 1: nanoAOD\n",
    "\n",
    "[Simulated dataset QCD_Pt-15to7000_TuneCP5_Flat2018_13TeV_pythia8 in NANOAODSIM format for 2016 collision data](https://opendata.cern.ch/record/63168)"
   ]
  },
  {
   "cell_type": "code",
   "execution_count": 2,
   "id": "104e35af-50b0-4f1f-aefc-fd27c454d1fc",
   "metadata": {},
   "outputs": [],
   "source": [
    "infile_name = '397D1673-167A-CF46-9E79-D7069D9AC359.root'\n",
    "\n",
    "if not (os.path.isfile(infile_name)): \n",
    "    !curl -O http://opendata.cern.ch/eos/opendata/cms/mc/RunIISummer20UL16NanoAODv9/QCD_Pt-15to7000_TuneCP5_Flat2018_13TeV_pythia8/NANOAODSIM/106X_mcRun2_asymptotic_v17-v1/270000/397D1673-167A-CF46-9E79-D7069D9AC359.root"
   ]
  },
  {
   "cell_type": "code",
   "execution_count": 3,
   "id": "b694d91d-7379-4339-bc22-899c6d9c5310",
   "metadata": {},
   "outputs": [],
   "source": [
    "infile = uproot.open(infile_name)"
   ]
  },
  {
   "cell_type": "code",
   "execution_count": 4,
   "id": "df714c3d-43f4-4a98-9381-2e449e89942b",
   "metadata": {
    "scrolled": true
   },
   "outputs": [],
   "source": [
    "events = infile['Events']\n",
    "#events.show()"
   ]
  },
  {
   "cell_type": "markdown",
   "id": "df004588-779f-4f9b-85e5-359c3c5109f0",
   "metadata": {},
   "source": [
    "[Dataset semantics](https://opendata.cern.ch/eos/opendata/cms/dataset-semantics/NanoAODSIM/63168/QCD_Pt-15to7000_TuneCP5_Flat2018_13TeV_pythia8_doc.html)"
   ]
  },
  {
   "cell_type": "markdown",
   "id": "7ea466e4-7991-454f-a388-e8ae86a7d700",
   "metadata": {},
   "source": [
    "## Part 2: three.js"
   ]
  },
  {
   "cell_type": "markdown",
   "id": "31be113a-995c-4be4-852b-55b05be053d3",
   "metadata": {},
   "source": [
    "Create a scene, renderer, controls, and lights"
   ]
  },
  {
   "cell_type": "code",
   "execution_count": 5,
   "id": "5167a2b9-cab3-4efa-8680-a32034a16591",
   "metadata": {},
   "outputs": [],
   "source": [
    "lp = 15.0\n",
    "\n",
    "lights = [\n",
    "    DirectionalLight(color='white', position=[-lp, lp, lp], intensity=1),\n",
    "    DirectionalLight(color='white', position=[lp, -lp, -lp], intensity=1)\n",
    "]"
   ]
  },
  {
   "cell_type": "code",
   "execution_count": 6,
   "id": "d76efc14-7756-4778-b523-af03bf939544",
   "metadata": {},
   "outputs": [],
   "source": [
    "width = 800\n",
    "height = 500\n",
    "\n",
    "camera = PerspectiveCamera(\n",
    "    position=[5, 5, 10],\n",
    "    up=[0, 1, 0], \n",
    "    children=[lights],\n",
    "    aspect=width/height\n",
    ")"
   ]
  },
  {
   "cell_type": "code",
   "execution_count": 7,
   "id": "8026b669-1373-48b7-a6da-8443a74aba51",
   "metadata": {},
   "outputs": [],
   "source": [
    "scene = Scene(\n",
    "    background='#232323'\n",
    ")"
   ]
  },
  {
   "cell_type": "code",
   "execution_count": 8,
   "id": "e8b45ec4-c216-43ab-a077-30fd6111bef4",
   "metadata": {},
   "outputs": [],
   "source": [
    "renderer = Renderer(\n",
    "    camera=camera,\n",
    "    scene=scene,\n",
    "    controls=[OrbitControls(controlling=camera)],\n",
    "    width=width,\n",
    "    height=height\n",
    ")"
   ]
  },
  {
   "cell_type": "code",
   "execution_count": 9,
   "id": "32d4026d-d912-45c1-b64d-09fbee7d07ba",
   "metadata": {},
   "outputs": [],
   "source": [
    "def make_jet(pt, eta, phi):\n",
    "\n",
    "    theta = 2*math.atan(pow(math.e, -eta))\n",
    "\n",
    "    dir = np.array([\n",
    "        math.cos(phi),\n",
    "        math.sin(phi),\n",
    "        math.sinh(eta)\n",
    "    ])\n",
    "\n",
    "    dir /= np.linalg.norm(dir)\n",
    "    \n",
    "    #radius = 0.3*(1.0/(1+0.001))\n",
    "    length = 1.10\n",
    "    \n",
    "    geometry = CylinderGeometry(\n",
    "        radiusTop=0.3,\n",
    "        radiusBottom=0.0,\n",
    "        height=length,\n",
    "        radialSegments=32,\n",
    "        heightSegments=1,\n",
    "        openEnded=True\n",
    "    )\n",
    "\n",
    "    length *= 0.5\n",
    "    \n",
    "    jet = Mesh(\n",
    "        geometry=geometry,\n",
    "        material=MeshBasicMaterial(\n",
    "            color='#ffff00', \n",
    "            side='DoubleSide',\n",
    "            transparent=True,\n",
    "            opacity=0.5\n",
    "        )\n",
    "    )\n",
    "\n",
    "    jet.rotateZ(phi-math.pi/2)\n",
    "    jet.rotateX(math.pi/2-theta)\n",
    "    jet.position = (dir*length).tolist()\n",
    "\n",
    "    return jet\n",
    "\n",
    "make_jets = np.vectorize(make_jet)"
   ]
  },
  {
   "cell_type": "code",
   "execution_count": 10,
   "id": "b06ac9f6-700a-4a59-af21-f3efdd408efa",
   "metadata": {},
   "outputs": [],
   "source": [
    "def make_arrow(eta, phi):\n",
    " \n",
    "    dir = np.array([\n",
    "        math.cos(phi),\n",
    "        math.sin(phi),\n",
    "        math.sinh(eta)\n",
    "    ])\n",
    "\n",
    "    dir /= np.linalg.norm(dir)\n",
    "    \n",
    "    arrow = ArrowHelper(\n",
    "      dir=dir.tolist(),\n",
    "      origin=[0, 0, 0],\n",
    "      length=2,\n",
    "      color='#00ff00',\n",
    "      headLength=0.2,\n",
    "      headWidth=0.2\n",
    "    )\n",
    "\n",
    "    return arrow"
   ]
  },
  {
   "cell_type": "markdown",
   "id": "e8e010b6-f62b-4684-8782-85866dcf86a6",
   "metadata": {},
   "source": [
    "For now just draw electrons and muons as arrows"
   ]
  },
  {
   "cell_type": "code",
   "execution_count": 11,
   "id": "402e8dac-da67-4f1e-bc1e-db558054ebd0",
   "metadata": {},
   "outputs": [],
   "source": [
    "def make_muon(pt, eta, phi, charge):\n",
    "\n",
    "    dir = np.array([\n",
    "        math.cos(phi),\n",
    "        math.sin(phi),\n",
    "        math.sinh(eta)\n",
    "    ])\n",
    "\n",
    "    dir /= np.linalg.norm(dir)\n",
    "    \n",
    "    muon = ArrowHelper(\n",
    "      dir=dir.tolist(),\n",
    "      origin=[0, 0, 0],\n",
    "      length=pt*0.1,\n",
    "      color='#ff0000',\n",
    "      headLength=0.2,\n",
    "      headWidth=0.1\n",
    "    )\n",
    "\n",
    "    return muon\n",
    "\n",
    "make_muons = np.vectorize(make_muon)"
   ]
  },
  {
   "cell_type": "code",
   "execution_count": 12,
   "id": "54ec4cb4-6a92-4cc2-9491-c0dcc3ba1eeb",
   "metadata": {},
   "outputs": [],
   "source": [
    "def make_electron(pt, eta, phi, charge):\n",
    "\n",
    "    dir = np.array([\n",
    "        math.cos(phi),\n",
    "        math.sin(phi),\n",
    "        math.sinh(eta)\n",
    "    ])\n",
    "\n",
    "    dir /= np.linalg.norm(dir)\n",
    "    \n",
    "    electron = ArrowHelper(\n",
    "      dir=dir.tolist(),\n",
    "      origin=[0, 0, 0],\n",
    "      length=pt*0.1,\n",
    "      color='#19ff19',\n",
    "      headLength=0.2,\n",
    "      headWidth=0.1\n",
    "    )\n",
    "\n",
    "    return electron\n",
    "\n",
    "make_electrons = np.vectorize(make_electron)"
   ]
  },
  {
   "cell_type": "code",
   "execution_count": 13,
   "id": "257ecc63-8bb7-4d3c-93ba-9f279d71676e",
   "metadata": {},
   "outputs": [],
   "source": [
    "def make_met(pt, phi):\n",
    "\n",
    "    px = math.cos(phi)\n",
    "    py = math.sin(phi)\n",
    "    \n",
    "    dir = np.array([px,py,0])\n",
    "    dir /= np.linalg.norm(dir)\n",
    "    d = 1.24\n",
    "    length = pt*0.1\n",
    "    length = 5 if length+d > 5 else length\n",
    "    \n",
    "    met = ArrowHelper(\n",
    "      dir=dir.tolist(),\n",
    "      origin=[px*d, py*d, 0],\n",
    "      length=length,\n",
    "      color='#ff00ff',\n",
    "      headLength=0.2,\n",
    "      headWidth=0.2\n",
    "    )\n",
    "\n",
    "    return met"
   ]
  },
  {
   "cell_type": "code",
   "execution_count": 14,
   "id": "a8030c3e-e4b0-47ed-aded-95ab38069f03",
   "metadata": {},
   "outputs": [],
   "source": [
    "def make_sv(x,y,z):\n",
    "\n",
    "    geometry = SphereGeometry(\n",
    "        radius=0.01,\n",
    "        widthSegments=32,\n",
    "        heightSegments=32\n",
    "    )\n",
    "\n",
    "    vertex = Mesh(\n",
    "        geometry,\n",
    "        MeshBasicMaterial(color='#ff6600')\n",
    "    )\n",
    "    \n",
    "    vertex.position = [0.01*x,0.01*y,0.01*z]\n",
    "    \n",
    "    return vertex\n",
    "\n",
    "make_svs = np.vectorize(make_sv)\n",
    "\n",
    "def make_pv(position):\n",
    "\n",
    "    geometry = SphereGeometry(\n",
    "        radius=0.01,\n",
    "        widthSegments=32,\n",
    "        heightSegments=32\n",
    "    )\n",
    "\n",
    "    vertex = Mesh(\n",
    "        geometry,\n",
    "        MeshBasicMaterial(color='#ffff00')\n",
    "    )\n",
    "\n",
    "    vertex.position = position\n",
    "\n",
    "    return vertex"
   ]
  },
  {
   "cell_type": "markdown",
   "id": "3c529693-f9d5-4eaf-9717-2b479781d51b",
   "metadata": {},
   "source": [
    "Make an EB-like geometry for context"
   ]
  },
  {
   "cell_type": "code",
   "execution_count": 15,
   "id": "14c3ce9c-c2df-45bd-bb0e-234c98009ba3",
   "metadata": {},
   "outputs": [],
   "source": [
    "def make_eb():\n",
    "\n",
    "    geometry = CylinderGeometry(\n",
    "        radiusTop=1.12, \n",
    "        radiusBottom=1.24, \n",
    "        height=6.0, \n",
    "        radialSegments=64, \n",
    "        heightSegments=1, \n",
    "        openEnded=True, \n",
    "        thetaStart=0, \n",
    "        thetaLength=2*math.pi\n",
    "    )\n",
    "\n",
    "    eb = Mesh(\n",
    "        geometry,\n",
    "        MeshBasicMaterial(\n",
    "            color='#7fccff',\n",
    "            wireframe=True,\n",
    "            transparent=True,\n",
    "            opacity=0.2\n",
    "        )\n",
    "    )\n",
    "\n",
    "    eb.rotateX(math.pi/2)\n",
    "    \n",
    "    return eb"
   ]
  },
  {
   "cell_type": "markdown",
   "id": "014591dd-2e73-43d7-9129-a17e5d8c78be",
   "metadata": {},
   "source": [
    "## Part 3: Render events"
   ]
  },
  {
   "cell_type": "code",
   "execution_count": 16,
   "id": "881a5917-0e66-4206-918b-242b91e3d6f3",
   "metadata": {},
   "outputs": [],
   "source": [
    "df = events.arrays(\n",
    "    [\n",
    "        'nJet', 'Jet_pt', 'Jet_eta', 'Jet_phi',\n",
    "        'MET_pt', 'MET_phi',\n",
    "        'nPhoton', 'Photon_pt', 'Photon_eta', 'Photon_phi',\n",
    "        'nMuon', 'Muon_pt', 'Muon_eta', 'Muon_phi', 'Muon_charge',\n",
    "        'nElectron', 'Electron_pt', 'Electron_eta', 'Electron_phi', 'Electron_charge',\n",
    "        'nSV', 'SV_x', 'SV_y', 'SV_z',\n",
    "        'PV_x', 'PV_y', 'PV_z'\n",
    "    ],\n",
    "    library='ak'\n",
    ")"
   ]
  },
  {
   "cell_type": "code",
   "execution_count": 17,
   "id": "122bbeaa-7c0d-4524-9790-0523ca6400b1",
   "metadata": {},
   "outputs": [
    {
     "data": {
      "text/html": [
       "<pre>[{nJet: 2, Jet_pt: [30.6, 15.1], Jet_eta: [0.131, ...], Jet_phi: [...], ...},\n",
       " {nJet: 2, Jet_pt: [39.7, 22.3], Jet_eta: [-1.03, ...], Jet_phi: [...], ...},\n",
       " {nJet: 3, Jet_pt: [82.1, 50.2, 20.3], Jet_eta: [-1.79, ...], ...},\n",
       " {nJet: 1, Jet_pt: [23.9], Jet_eta: [-0.739], Jet_phi: [0.318], ...},\n",
       " {nJet: 6, Jet_pt: [39, 21.1, ..., 15.7, 15.7], Jet_eta: [...], ...},\n",
       " {nJet: 2, Jet_pt: [41.4, 36.1], Jet_eta: [-4.1, ...], Jet_phi: [...], ...},\n",
       " {nJet: 2, Jet_pt: [37.5, 21.6], Jet_eta: [3.65, ...], Jet_phi: [...], ...},\n",
       " {nJet: 2, Jet_pt: [32.8, 28.1], Jet_eta: [-2.07, ...], Jet_phi: [...], ...},\n",
       " {nJet: 4, Jet_pt: [169, 146, 16.1, 15.4], Jet_eta: [...], Jet_phi: [...], ...},\n",
       " {nJet: 1, Jet_pt: [17.7], Jet_eta: [2.74], Jet_phi: [1.49], MET_pt: 22.8, ...},\n",
       " ...,\n",
       " {nJet: 6, Jet_pt: [2.29e+03, ..., 15.3], Jet_eta: [...], Jet_phi: [...], ...},\n",
       " {nJet: 5, Jet_pt: [68.9, 41.1, ..., 15.5], Jet_eta: [...], Jet_phi: ..., ...},\n",
       " {nJet: 7, Jet_pt: [2.47e+03, ..., 18.7], Jet_eta: [...], Jet_phi: [...], ...},\n",
       " {nJet: 9, Jet_pt: [860, 839, ..., 24.5, 15.1], Jet_eta: [...], ...},\n",
       " {nJet: 5, Jet_pt: [898, 826, ..., 19.1, 15.1], Jet_eta: [...], ...},\n",
       " {nJet: 5, Jet_pt: [1.95e+03, ..., 15.3], Jet_eta: [...], Jet_phi: [...], ...},\n",
       " {nJet: 8, Jet_pt: [3.2e+03, ..., 23], Jet_eta: [-0.366, ...], ...},\n",
       " {nJet: 6, Jet_pt: [1.64e+03, ..., 18.3], Jet_eta: [1.19, ...], ...},\n",
       " {nJet: 9, Jet_pt: [990, 704, ..., 19.2, 16.7], Jet_eta: [...], ...}]\n",
       "--------------------------------------------------------------------------------\n",
       "type: 2000 * {\n",
       "    nJet: uint32,\n",
       "    Jet_pt: var * float32,\n",
       "    Jet_eta: var * float32,\n",
       "    Jet_phi: var * float32,\n",
       "    MET_pt: float32,\n",
       "    MET_phi: float32,\n",
       "    nPhoton: uint32,\n",
       "    Photon_pt: var * float32,\n",
       "    Photon_eta: var * float32,\n",
       "    Photon_phi: var * float32,\n",
       "    nMuon: uint32,\n",
       "    Muon_pt: var * float32,\n",
       "    Muon_eta: var * float32,\n",
       "    Muon_phi: var * float32,\n",
       "    Muon_charge: var * int32,\n",
       "    nElectron: uint32,\n",
       "    Electron_pt: var * float32,\n",
       "    Electron_eta: var * float32,\n",
       "    Electron_phi: var * float32,\n",
       "    Electron_charge: var * int32,\n",
       "    nSV: uint32,\n",
       "    SV_x: var * float32,\n",
       "    SV_y: var * float32,\n",
       "    SV_z: var * float32,\n",
       "    PV_x: float32,\n",
       "    PV_y: float32,\n",
       "    PV_z: float32\n",
       "}</pre>"
      ],
      "text/plain": [
       "<Array [{nJet: 2, Jet_pt: [...], ...}, ...] type='2000 * {nJet: uint32, Jet...'>"
      ]
     },
     "execution_count": 17,
     "metadata": {},
     "output_type": "execute_result"
    }
   ],
   "source": [
    "df"
   ]
  },
  {
   "cell_type": "code",
   "execution_count": 18,
   "id": "7df3bb80-eee1-4f25-a9f7-d49329adde9d",
   "metadata": {},
   "outputs": [],
   "source": [
    "def add_event(event):\n",
    "\n",
    "    scene.children = []\n",
    "    \n",
    "    met = make_met(\n",
    "        event['MET_pt'],\n",
    "        event['MET_phi']\n",
    "    )\n",
    "\n",
    "    scene.add(met)\n",
    "\n",
    "    if event['nJet'] > 0:\n",
    "    \n",
    "        jets = make_jets(\n",
    "            event['Jet_pt'],\n",
    "            event['Jet_eta'],\n",
    "            event['Jet_phi']\n",
    "        )\n",
    "\n",
    "        scene.add(jets)\n",
    "\n",
    "    if event['nElectron'] > 0:\n",
    "\n",
    "        electrons = make_electrons(\n",
    "            event['Electron_pt'],\n",
    "            event['Electron_eta'],\n",
    "            event['Electron_phi'],\n",
    "            event['Electron_charge']\n",
    "        )\n",
    "\n",
    "        scene.add(electrons)\n",
    "\n",
    "    if event['nMuon'] > 0:\n",
    "        \n",
    "        muons = make_muons(\n",
    "            event['Muon_pt'],\n",
    "            event['Muon_eta'],\n",
    "            event['Muon_phi'],\n",
    "            event['Muon_charge']\n",
    "        )\n",
    "\n",
    "        scene.add(muons)\n",
    "        \n",
    "    if event['nSV'] > 0:\n",
    "        \n",
    "        svs = make_svs(\n",
    "            event['SV_x'],\n",
    "            event['SV_y'],\n",
    "            event['SV_z']\n",
    "        )\n",
    "         \n",
    "        scene.add(svs)\n",
    "\n",
    "    pv = make_pv([\n",
    "        0.01*event['PV_x'],\n",
    "        0.01*event['PV_y'],\n",
    "        0.01*event['PV_z']\n",
    "    ])\n",
    "\n",
    "    scene.add(pv)\n",
    "    \n",
    "    scene.add(make_eb())"
   ]
  },
  {
   "cell_type": "code",
   "execution_count": 19,
   "id": "84016dd7-b1b2-415a-be9d-c5f7e6573c58",
   "metadata": {},
   "outputs": [],
   "source": [
    "renderer.render(scene, camera)\n",
    "\n",
    "current_event = 0\n",
    "max_events = len(df)-1\n",
    "\n",
    "prev_button = widgets.Button(\n",
    "    description='',\n",
    "    disabled=False,\n",
    "    button_style='',\n",
    "    tooltip='Previous Event',\n",
    "    icon='step-backward'\n",
    ")\n",
    "\n",
    "next_button = widgets.Button(\n",
    "    description='',\n",
    "    disabled=False,\n",
    "    button_style='',\n",
    "    tooltip='Next Event',\n",
    "    icon='step-forward'\n",
    ")\n",
    "\n",
    "output = widgets.Output()\n",
    "\n",
    "def prev_button_clicked(b):\n",
    "    with output:\n",
    "        global current_event\n",
    "        if current_event > 0:\n",
    "            current_event -= 1\n",
    "            add_event(df[current_event])\n",
    "        print('event', current_event)\n",
    "\n",
    "def next_button_clicked(b):\n",
    "    with output:\n",
    "        global current_event\n",
    "        if current_event < max_events:\n",
    "            current_event += 1\n",
    "            add_event(df[current_event])\n",
    "        print('event', current_event)\n",
    "\n",
    "prev_button.on_click(prev_button_clicked)\n",
    "next_button.on_click(next_button_clicked)"
   ]
  },
  {
   "cell_type": "code",
   "execution_count": 20,
   "id": "6ccb4551-767c-41ef-9d45-54008d3a9025",
   "metadata": {},
   "outputs": [],
   "source": [
    "add_event(df[current_event])"
   ]
  },
  {
   "cell_type": "code",
   "execution_count": 21,
   "id": "081fdca3-ede7-458e-8e3a-cd97333408a6",
   "metadata": {},
   "outputs": [
    {
     "data": {
      "application/vnd.jupyter.widget-view+json": {
       "model_id": "7cb305a6354c40c2a1042ead369bc08a",
       "version_major": 2,
       "version_minor": 0
      },
      "text/plain": [
       "Renderer(camera=PerspectiveCamera(aspect=1.6, children=([DirectionalLight(color='white', matrixWorldNeedsUpdat…"
      ]
     },
     "execution_count": 21,
     "metadata": {},
     "output_type": "execute_result"
    }
   ],
   "source": [
    "renderer"
   ]
  },
  {
   "cell_type": "code",
   "execution_count": 22,
   "id": "23d24640-35c1-4236-b2a5-61938dbec3ad",
   "metadata": {},
   "outputs": [
    {
     "data": {
      "application/vnd.jupyter.widget-view+json": {
       "model_id": "ad322ef1634c41f4b1059ef4162be292",
       "version_major": 2,
       "version_minor": 0
      },
      "text/plain": [
       "HBox(children=(Button(icon='step-backward', style=ButtonStyle(), tooltip='Previous Event'), Button(icon='step-…"
      ]
     },
     "metadata": {},
     "output_type": "display_data"
    },
    {
     "data": {
      "application/vnd.jupyter.widget-view+json": {
       "model_id": "67c74febd23b4b6ebf618e62199ae89d",
       "version_major": 2,
       "version_minor": 0
      },
      "text/plain": [
       "Output()"
      ]
     },
     "metadata": {},
     "output_type": "display_data"
    }
   ],
   "source": [
    "display(widgets.HBox((prev_button, next_button)), output)"
   ]
  },
  {
   "cell_type": "code",
   "execution_count": null,
   "id": "a9f239c3-ba1b-4d9f-8540-9343e965d076",
   "metadata": {},
   "outputs": [],
   "source": []
  }
 ],
 "metadata": {
  "kernelspec": {
   "display_name": "Python 3 (ipykernel)",
   "language": "python",
   "name": "python3"
  },
  "language_info": {
   "codemirror_mode": {
    "name": "ipython",
    "version": 3
   },
   "file_extension": ".py",
   "mimetype": "text/x-python",
   "name": "python",
   "nbconvert_exporter": "python",
   "pygments_lexer": "ipython3",
   "version": "3.11.5"
  }
 },
 "nbformat": 4,
 "nbformat_minor": 5
}
